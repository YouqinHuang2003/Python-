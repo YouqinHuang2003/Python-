{
 "cells": [
  {
   "cell_type": "code",
   "execution_count": 8,
   "id": "91a16879-f84d-43fa-92fc-abb975fed647",
   "metadata": {
    "tags": []
   },
   "outputs": [
    {
     "name": "stdout",
     "output_type": "stream",
     "text": [
      "Hello! JayHuang\n"
     ]
    }
   ],
   "source": [
    "#导入整个模块\n",
    "import module1\n",
    "\n",
    "module1.say_hi('JayHuang')"
   ]
  },
  {
   "cell_type": "code",
   "execution_count": null,
   "id": "efaeff61-2309-45d1-a010-f04e0fdc3092",
   "metadata": {},
   "outputs": [],
   "source": []
  }
 ],
 "metadata": {
  "kernelspec": {
   "display_name": "Python 3 (ipykernel)",
   "language": "python",
   "name": "python3"
  },
  "language_info": {
   "codemirror_mode": {
    "name": "ipython",
    "version": 3
   },
   "file_extension": ".py",
   "mimetype": "text/x-python",
   "name": "python",
   "nbconvert_exporter": "python",
   "pygments_lexer": "ipython3",
   "version": "3.11.5"
  }
 },
 "nbformat": 4,
 "nbformat_minor": 5
}
