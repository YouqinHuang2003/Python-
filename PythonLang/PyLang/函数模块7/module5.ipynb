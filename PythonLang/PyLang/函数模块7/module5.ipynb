{
 "cells": [
  {
   "cell_type": "code",
   "execution_count": 1,
   "id": "3636b2b6-3131-46b7-bf93-a33dc4663af2",
   "metadata": {
    "tags": []
   },
   "outputs": [
    {
     "name": "stdout",
     "output_type": "stream",
     "text": [
      "Hi! JieYang\n",
      "Hello! YangJay\n"
     ]
    }
   ],
   "source": [
    "#使用 as 给模块指定别名\n",
    "import module1 as mm\n",
    "mm.say_hi('JieYang')\n",
    "mm.say_Hello('YangJay')"
   ]
  }
 ],
 "metadata": {
  "kernelspec": {
   "display_name": "Python 3 (ipykernel)",
   "language": "python",
   "name": "python3"
  },
  "language_info": {
   "codemirror_mode": {
    "name": "ipython",
    "version": 3
   },
   "file_extension": ".py",
   "mimetype": "text/x-python",
   "name": "python",
   "nbconvert_exporter": "python",
   "pygments_lexer": "ipython3",
   "version": "3.11.5"
  }
 },
 "nbformat": 4,
 "nbformat_minor": 5
}
