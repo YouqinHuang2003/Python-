{
 "cells": [
  {
   "cell_type": "code",
   "execution_count": 2,
   "id": "91b8b2f3-da58-4f95-ab38-cbd055e8ec30",
   "metadata": {
    "tags": []
   },
   "outputs": [
    {
     "name": "stdout",
     "output_type": "stream",
     "text": [
      "{'name': 'Jay', 'age': '30'}\n"
     ]
    }
   ],
   "source": [
    "#创建一个简单的字典\n",
    "my_dict = {'name':'Jay', 'age':'30'}\n",
    "print(my_dict)"
   ]
  },
  {
   "cell_type": "code",
   "execution_count": 3,
   "id": "419d0a45-22d1-4dde-81ba-b27ecfa78e73",
   "metadata": {
    "tags": []
   },
   "outputs": [
    {
     "name": "stdout",
     "output_type": "stream",
     "text": [
      "Jay\n"
     ]
    }
   ],
   "source": [
    "#访问字典中的值\n",
    "print(my_dict['name'])"
   ]
  },
  {
   "cell_type": "code",
   "execution_count": 4,
   "id": "3e0ec970-6b09-4510-942c-132da6344aac",
   "metadata": {
    "tags": []
   },
   "outputs": [
    {
     "name": "stdout",
     "output_type": "stream",
     "text": [
      "{'name': 'Jay', 'age': '30', 'city': 'Shanghai'}\n"
     ]
    }
   ],
   "source": [
    "#添加键值对\n",
    "my_dict['city'] = 'Shanghai'\n",
    "print(my_dict)"
   ]
  },
  {
   "cell_type": "code",
   "execution_count": 5,
   "id": "e008607c-fb85-47e7-9087-4d3bed07d62d",
   "metadata": {
    "tags": []
   },
   "outputs": [
    {
     "name": "stdout",
     "output_type": "stream",
     "text": [
      "{}\n"
     ]
    }
   ],
   "source": [
    "#创建一个空字典\n",
    "empty_dict = {}\n",
    "print(empty_dict)"
   ]
  },
  {
   "cell_type": "code",
   "execution_count": 7,
   "id": "29bbab96-5cbe-44af-9b5c-da40cbe963a4",
   "metadata": {
    "tags": []
   },
   "outputs": [
    {
     "name": "stdout",
     "output_type": "stream",
     "text": [
      "{'name': 'Jay', 'age': 25, 'city': 'Shanghai'}\n"
     ]
    }
   ],
   "source": [
    "#修改字典中的值\n",
    "my_dict['age'] = 25\n",
    "print(my_dict)"
   ]
  },
  {
   "cell_type": "code",
   "execution_count": 8,
   "id": "0a14f8bf-b9df-4437-82bc-996e4c9e5ae1",
   "metadata": {
    "tags": []
   },
   "outputs": [
    {
     "name": "stdout",
     "output_type": "stream",
     "text": [
      "{'name': 'Jay', 'age': 25}\n"
     ]
    }
   ],
   "source": [
    "#删除键值对\n",
    "del my_dict['city']\n",
    "print(my_dict)"
   ]
  },
  {
   "cell_type": "code",
   "execution_count": 12,
   "id": "82d954b8-deb4-412c-a01e-d4dcd4930f39",
   "metadata": {
    "tags": []
   },
   "outputs": [
    {
     "name": "stdout",
     "output_type": "stream",
     "text": [
      "25\n",
      "25\n",
      "25\n"
     ]
    }
   ],
   "source": [
    "#使用 get() 访问值\n",
    "\n",
    "# 输出25，如果'age'不存在，则返回35\n",
    "print(my_dict.get('age', 35))\n",
    "print(my_dict.get('age', 25))\n",
    "print(my_dict.get('age'))"
   ]
  },
  {
   "cell_type": "code",
   "execution_count": 13,
   "id": "c0417ae8-e617-4228-b1a8-cefe8132aad8",
   "metadata": {
    "tags": []
   },
   "outputs": [
    {
     "name": "stdout",
     "output_type": "stream",
     "text": [
      "name Jay\n",
      "age 25\n"
     ]
    }
   ],
   "source": [
    "#遍历所有的键值对\n",
    "for k, v in my_dict.items():\n",
    "    print(k, v)"
   ]
  },
  {
   "cell_type": "code",
   "execution_count": 15,
   "id": "a38340e3-2d6e-4eee-8535-2f192eb3dee1",
   "metadata": {
    "tags": []
   },
   "outputs": [
    {
     "name": "stdout",
     "output_type": "stream",
     "text": [
      "name\n",
      "age\n"
     ]
    }
   ],
   "source": [
    "#遍历字典中的所有键\n",
    "for key in my_dict.keys():\n",
    "    print(key)"
   ]
  },
  {
   "cell_type": "code",
   "execution_count": 19,
   "id": "f181d370-3f37-48ee-88cd-7faed570db6f",
   "metadata": {
    "tags": []
   },
   "outputs": [
    {
     "name": "stdout",
     "output_type": "stream",
     "text": [
      "age\n",
      "name\n",
      "......................................\n",
      "name\n",
      "age\n"
     ]
    }
   ],
   "source": [
    "#按特定顺序遍历字典中的所有键\n",
    "for key in sorted(my_dict.keys()):\n",
    "    print(key)\n",
    "print('......................................')\n",
    "for key in sorted(my_dict.keys(), reverse=True):\n",
    "    print(key)"
   ]
  },
  {
   "cell_type": "code",
   "execution_count": 20,
   "id": "8d8f63f6-bab4-4a62-908d-e21949b4e646",
   "metadata": {
    "tags": []
   },
   "outputs": [
    {
     "name": "stdout",
     "output_type": "stream",
     "text": [
      "Jay\n",
      "25\n"
     ]
    }
   ],
   "source": [
    "#遍历字典中的所有值\n",
    "for value in my_dict.values():\n",
    "    print(value)"
   ]
  },
  {
   "cell_type": "code",
   "execution_count": 28,
   "id": "8e3b969f-3978-4958-9d70-23036a1a74cb",
   "metadata": {
    "tags": []
   },
   "outputs": [
    {
     "name": "stdout",
     "output_type": "stream",
     "text": [
      "dict_values([21, 'Shenzhen']) dict_values([21, 'Guangzhou'])\n",
      "dict_keys(['age', 'city']) dict_keys(['age', 'city'])\n",
      "dict_items([('age', 21), ('city', 'Shenzhen')]) dict_items([('age', 21), ('city', 'Guangzhou')])\n"
     ]
    }
   ],
   "source": [
    "#嵌套：字典中存储字典\n",
    "my_dict = {'YangJay' : {'age' : 21, 'city' : 'Shenzhen'}, 'JieYang' : {'age' : 21, 'city' : 'Guangzhou'}}\n",
    "print(my_dict['YangJay'].values(), my_dict['JieYang'].values())\n",
    "print(my_dict['YangJay'].keys(), my_dict['JieYang'].keys())\n",
    "print(my_dict['YangJay'].items(), my_dict['JieYang'].items())"
   ]
  },
  {
   "cell_type": "code",
   "execution_count": 31,
   "id": "a81d5e5a-7296-41b9-b3c3-13e4f48d7ba7",
   "metadata": {
    "tags": []
   },
   "outputs": [
    {
     "name": "stdout",
     "output_type": "stream",
     "text": [
      "<class 'list'>\n",
      "[{'name': 'YangJay', 'age': 21}, {'name': 'JieYang', 'age': 21}]\n",
      "<class 'str'>\n",
      "YangJay\n",
      "<class 'dict'>\n",
      "{'name': 'YangJay', 'age': 21}\n",
      "<class 'int'>\n",
      "21\n"
     ]
    }
   ],
   "source": [
    "#字典列表\n",
    "my_list = [{'name' : 'YangJay', 'age' : 21}, {'name' : 'JieYang', 'age' : 21}]\n",
    "print(type(my_list))\n",
    "print(my_list)\n",
    "print(type(my_list[0]['name']))\n",
    "print(my_list[0]['name'])\n",
    "print(type(my_list[0]))\n",
    "print(my_list[0])\n",
    "print(type(my_list[0]['age']))\n",
    "print(my_list[0]['age'])"
   ]
  },
  {
   "cell_type": "code",
   "execution_count": 43,
   "id": "2efd86e4-160c-4e87-ba1e-68d7bc7a8a1d",
   "metadata": {
    "tags": []
   },
   "outputs": [
    {
     "name": "stdout",
     "output_type": "stream",
     "text": [
      "{'name': 'JieYang', 'age/city': [25, 'Guangzhou']}\n",
      "<class 'dict'>\n",
      "<class 'list'>\n"
     ]
    }
   ],
   "source": [
    "#在字典中存储列表\n",
    "my_dict = {'name' : 'JieYang', 'age/city' : [25, 'Guangzhou']}\n",
    "print(my_dict)\n",
    "print(type(my_dict))\n",
    "print(type(my_dict['age/city']))"
   ]
  }
 ],
 "metadata": {
  "kernelspec": {
   "display_name": "Python 3 (ipykernel)",
   "language": "python",
   "name": "python3"
  },
  "language_info": {
   "codemirror_mode": {
    "name": "ipython",
    "version": 3
   },
   "file_extension": ".py",
   "mimetype": "text/x-python",
   "name": "python",
   "nbconvert_exporter": "python",
   "pygments_lexer": "ipython3",
   "version": "3.11.5"
  }
 },
 "nbformat": 4,
 "nbformat_minor": 5
}
