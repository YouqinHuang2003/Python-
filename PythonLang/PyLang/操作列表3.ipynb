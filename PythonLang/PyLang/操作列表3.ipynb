{
 "cells": [
  {
   "cell_type": "code",
   "execution_count": 1,
   "id": "44c33fb8-d360-45a6-b61d-adc5fc453636",
   "metadata": {},
   "outputs": [
    {
     "name": "stdout",
     "output_type": "stream",
     "text": [
      "1\n",
      "2\n",
      "3\n",
      "4\n",
      "5\n"
     ]
    }
   ],
   "source": [
    "#遍历整个列表\n",
    "numbers = [1, 2, 3, 4, 5]\n",
    "for number in numbers:\n",
    "    print(number)  #遍历列表并打印每个元素"
   ]
  },
  {
   "cell_type": "code",
   "execution_count": 7,
   "id": "55184d6c-4eba-4b4b-9b96-359dcb883b3c",
   "metadata": {
    "tags": []
   },
   "outputs": [
    {
     "name": "stdout",
     "output_type": "stream",
     "text": [
      "1\n",
      "4\n",
      "9\n",
      "16\n",
      "25\n",
      "1\n",
      "4\n",
      "9\n",
      "16\n",
      "25\n"
     ]
    }
   ],
   "source": [
    "#在 for 循环中执行更多的操作\n",
    "for number in numbers:\n",
    "    number *= number #number = number * number\n",
    "    print(number)\n",
    "#-------------------------------\n",
    "for number in numbers:\n",
    "    square = number * number\n",
    "    print(square)"
   ]
  },
  {
   "cell_type": "code",
   "execution_count": 8,
   "id": "ec37fa42-2185-4508-8336-1571560a8452",
   "metadata": {
    "tags": []
   },
   "outputs": [
    {
     "name": "stdout",
     "output_type": "stream",
     "text": [
      "1\n",
      "2\n",
      "3\n",
      "4\n",
      "5\n",
      "循环结束\n"
     ]
    }
   ],
   "source": [
    "#在 for 环结束后执行一些操作\n",
    "numbers = [1, 2, 3, 4, 5]\n",
    "for number in numbers:\n",
    "    print(number)\n",
    "print(\"循环结束\")"
   ]
  },
  {
   "cell_type": "code",
   "execution_count": 9,
   "id": "2b15a075-6937-49c4-a70f-36a3c472aae8",
   "metadata": {
    "tags": []
   },
   "outputs": [],
   "source": [
    "#避免缩进错误\n",
    "# 正确的缩进是执行块级代码的关键。错误的缩进会引发 `IndentationError`"
   ]
  },
  {
   "cell_type": "code",
   "execution_count": 11,
   "id": "b4d8999c-e058-4b9b-a72c-bfeefda34008",
   "metadata": {
    "tags": []
   },
   "outputs": [
    {
     "name": "stdout",
     "output_type": "stream",
     "text": [
      "1\n",
      "2\n",
      "3\n",
      "4\n",
      "5\n"
     ]
    }
   ],
   "source": [
    "#使用 range() 进行循环\n",
    "for i in range(1, 6): #6-1=5,1~5\n",
    "    print(i)"
   ]
  },
  {
   "cell_type": "code",
   "execution_count": 13,
   "id": "35ccdbc5-64b1-4d17-81b6-8ae8bd364efb",
   "metadata": {
    "tags": []
   },
   "outputs": [
    {
     "name": "stdout",
     "output_type": "stream",
     "text": [
      "20\n",
      "77\n",
      "211\n"
     ]
    }
   ],
   "source": [
    "#对数值列表执行简单的统计计算\n",
    "numbers = [21, 20, 35, 77, 58]\n",
    "print(min(numbers))  # 最小值\n",
    "print(max(numbers))  # 最大值\n",
    "print(sum(numbers))  # 总和"
   ]
  },
  {
   "cell_type": "code",
   "execution_count": 16,
   "id": "913a4737-9cd8-4b86-88aa-741f755a294c",
   "metadata": {
    "tags": []
   },
   "outputs": [
    {
     "name": "stdout",
     "output_type": "stream",
     "text": [
      "[1, 4, 9, 16, 25]\n"
     ]
    }
   ],
   "source": [
    "#列表推导式\n",
    "numbers = [1, 2, 3, 4, 5]\n",
    "squares = [number ** 2 for number in numbers]\n",
    "print(squares)"
   ]
  },
  {
   "cell_type": "code",
   "execution_count": 18,
   "id": "c297e0b8-7f13-4b1e-a5af-a50657f7087a",
   "metadata": {
    "tags": []
   },
   "outputs": [
    {
     "name": "stdout",
     "output_type": "stream",
     "text": [
      "[1, 2]\n"
     ]
    }
   ],
   "source": [
    "#切片\n",
    "numbers = [1, 2, 3, 4, 5]\n",
    "print(numbers[:2]) # 打印前两个元素"
   ]
  },
  {
   "cell_type": "code",
   "execution_count": 20,
   "id": "63cac9ea-8fcc-4f00-baa7-0de827ecd7e3",
   "metadata": {
    "tags": []
   },
   "outputs": [
    {
     "name": "stdout",
     "output_type": "stream",
     "text": [
      "21\n",
      "20\n",
      "35\n"
     ]
    }
   ],
   "source": [
    "#遍历切片\n",
    "numbers = [21, 20, 35, 77, 58]\n",
    "for number in numbers[:3]: # 打印前三个元素\n",
    "    print(number) "
   ]
  },
  {
   "cell_type": "code",
   "execution_count": 22,
   "id": "a4f9d71f-cddc-4300-9103-b39aaa85f59b",
   "metadata": {
    "tags": []
   },
   "outputs": [
    {
     "name": "stdout",
     "output_type": "stream",
     "text": [
      "[21, 20, 35, 77, 58]\n",
      "[21, 20, 35, 77, 58]\n"
     ]
    }
   ],
   "source": [
    "#复制列表\n",
    "numbers = [21, 20, 35, 77, 58]\n",
    "list_copy = numbers[:]\n",
    "print(list_copy)\n",
    "print(numbers)"
   ]
  },
  {
   "cell_type": "code",
   "execution_count": 23,
   "id": "aee59226-3fc4-4ce8-8dbb-4b265a8b6760",
   "metadata": {
    "tags": []
   },
   "outputs": [
    {
     "name": "stdout",
     "output_type": "stream",
     "text": [
      "200\n",
      "50\n"
     ]
    }
   ],
   "source": [
    "#定义元组并遍历\n",
    "tups = (200, 50)\n",
    "for tup in tups:\n",
    "    print(tup)"
   ]
  },
  {
   "cell_type": "code",
   "execution_count": 24,
   "id": "173922d3-093a-488c-b856-259cb1a20817",
   "metadata": {
    "tags": []
   },
   "outputs": [
    {
     "name": "stdout",
     "output_type": "stream",
     "text": [
      "400\n",
      "100\n"
     ]
    }
   ],
   "source": [
    "#修改元组变量\n",
    "tups = (400, 100)\n",
    "for tup in tups:\n",
    "    print(tup)"
   ]
  },
  {
   "cell_type": "code",
   "execution_count": 27,
   "id": "79909c38-8f3b-4f41-84d8-bf0e883b7058",
   "metadata": {
    "tags": []
   },
   "outputs": [
    {
     "ename": "TypeError",
     "evalue": "'tuple' object does not support item assignment",
     "output_type": "error",
     "traceback": [
      "\u001b[1;31m---------------------------------------------------------------------------\u001b[0m",
      "\u001b[1;31mTypeError\u001b[0m                                 Traceback (most recent call last)",
      "Cell \u001b[1;32mIn[27], line 3\u001b[0m\n\u001b[0;32m      1\u001b[0m \u001b[38;5;66;03m#错误的修改（元组不可直接更动）\u001b[39;00m\n\u001b[0;32m      2\u001b[0m tups \u001b[38;5;241m=\u001b[39m (\u001b[38;5;241m400\u001b[39m, \u001b[38;5;241m100\u001b[39m)\n\u001b[1;32m----> 3\u001b[0m tups[\u001b[38;5;241m0\u001b[39m] \u001b[38;5;241m=\u001b[39m \u001b[38;5;241m200\u001b[39m\n\u001b[0;32m      4\u001b[0m \u001b[38;5;28mprint\u001b[39m(tups)\n",
      "\u001b[1;31mTypeError\u001b[0m: 'tuple' object does not support item assignment"
     ]
    }
   ],
   "source": [
    "#错误的修改（元组不可直接更动）\n",
    "tups = (400, 100)\n",
    "tups[0] = 200\n",
    "print(tups)"
   ]
  }
 ],
 "metadata": {
  "kernelspec": {
   "display_name": "Python 3 (ipykernel)",
   "language": "python",
   "name": "python3"
  },
  "language_info": {
   "codemirror_mode": {
    "name": "ipython",
    "version": 3
   },
   "file_extension": ".py",
   "mimetype": "text/x-python",
   "name": "python",
   "nbconvert_exporter": "python",
   "pygments_lexer": "ipython3",
   "version": "3.11.5"
  }
 },
 "nbformat": 4,
 "nbformat_minor": 5
}
