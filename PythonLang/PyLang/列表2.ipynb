{
 "cells": [
  {
   "cell_type": "code",
   "execution_count": 1,
   "id": "aed0aaec-3229-41d4-bfbb-623b1c1f6506",
   "metadata": {},
   "outputs": [
    {
     "name": "stdout",
     "output_type": "stream",
     "text": [
      "[1, 'hello', 3.14, True]\n"
     ]
    }
   ],
   "source": [
    "# 列表是一种可变的，有序的数据集合\n",
    "my_list = [1, 'hello', 3.14, True]\n",
    "print(my_list)"
   ]
  },
  {
   "cell_type": "code",
   "execution_count": 4,
   "id": "8f4b93e5-6ec1-4c3e-8fe6-f75bf64f28ea",
   "metadata": {
    "tags": []
   },
   "outputs": [
    {
     "name": "stdout",
     "output_type": "stream",
     "text": [
      "1\n"
     ]
    }
   ],
   "source": [
    "#访问列表元素\n",
    "my_list = [1, 'hello', 3.14, True]\n",
    "print(my_list[0])"
   ]
  },
  {
   "cell_type": "code",
   "execution_count": 3,
   "id": "490bd070-5797-46b5-bbf4-f317db6728fa",
   "metadata": {
    "tags": []
   },
   "outputs": [
    {
     "name": "stdout",
     "output_type": "stream",
     "text": [
      "hello\n"
     ]
    }
   ],
   "source": [
    "#索引从0而不是1开始\n",
    "my_list = [1, 'hello', 3.14, True]\n",
    "print(my_list[1])"
   ]
  },
  {
   "cell_type": "code",
   "execution_count": 21,
   "id": "ff09c040-4b7f-4c8b-b33d-57422ecc6fe9",
   "metadata": {
    "tags": []
   },
   "outputs": [
    {
     "name": "stdout",
     "output_type": "stream",
     "text": [
      "Python\n"
     ]
    }
   ],
   "source": [
    "#使用列表中的各个值\n",
    "my_list = [1, 'hello', 3.14, True]\n",
    "print(my_list[1].title())"
   ]
  },
  {
   "cell_type": "code",
   "execution_count": 55,
   "id": "9c9c9a64-de22-4667-bf16-6c4db6306e78",
   "metadata": {
    "tags": []
   },
   "outputs": [
    {
     "name": "stdout",
     "output_type": "stream",
     "text": [
      "[1, 'Python', 3.14, True]\n"
     ]
    }
   ],
   "source": [
    "#修改列表元素\n",
    "my_list = [1, 'hello', 3.14, True]\n",
    "my_list[1] = \"Python\"\n",
    "print(my_list)"
   ]
  },
  {
   "cell_type": "code",
   "execution_count": 56,
   "id": "4e938361-e0c2-4182-a721-b3d9073a4bb6",
   "metadata": {
    "tags": []
   },
   "outputs": [
    {
     "name": "stdout",
     "output_type": "stream",
     "text": [
      "[1, 'hello', 3.14, True, 90]\n"
     ]
    }
   ],
   "source": [
    "#在列表中添加元素\n",
    "my_list = [1, 'hello', 3.14, True]\n",
    "my_list.append(90) #append()在末尾添加元素\n",
    "print(my_list)"
   ]
  },
  {
   "cell_type": "code",
   "execution_count": 31,
   "id": "abf83d3e-90a9-4d8d-8007-666d0f43ffe9",
   "metadata": {
    "tags": []
   },
   "outputs": [
    {
     "name": "stdout",
     "output_type": "stream",
     "text": [
      "[1, 5000, 'hello', 3.14, True]\n"
     ]
    }
   ],
   "source": [
    "#在列表中插入元素\n",
    "my_list = [1, 'hello', 3.14, True]\n",
    "my_list.insert(1, 5000)\n",
    "print(my_list)"
   ]
  },
  {
   "cell_type": "code",
   "execution_count": 57,
   "id": "3f56ddee-613a-4dd1-94cc-a5a462075892",
   "metadata": {
    "tags": []
   },
   "outputs": [
    {
     "name": "stdout",
     "output_type": "stream",
     "text": [
      "['hello', 3.14, True]\n"
     ]
    }
   ],
   "source": [
    "#从列表中删除元素\n",
    "my_list = [1, 'hello', 3.14, True]\n",
    "del my_list[0]\n",
    "print(my_list)"
   ]
  },
  {
   "cell_type": "code",
   "execution_count": 58,
   "id": "096391c9-bd54-43ca-bf55-158bec0b889d",
   "metadata": {},
   "outputs": [
    {
     "name": "stdout",
     "output_type": "stream",
     "text": [
      "True\n",
      "[1, 'hello', 3.14]\n"
     ]
    }
   ],
   "source": [
    "#使用 pop() 方法删除元素\n",
    "my_list = [1, 'hello', 3.14, True]\n",
    "last_item = my_list.pop()\n",
    "print(last_item)\n",
    "print(my_list)"
   ]
  },
  {
   "cell_type": "code",
   "execution_count": 33,
   "id": "306b2d4b-4cf4-4d12-99fa-fd458e71a16c",
   "metadata": {},
   "outputs": [
    {
     "name": "stdout",
     "output_type": "stream",
     "text": [
      "3.14\n",
      "[1, 'hello', True]\n"
     ]
    }
   ],
   "source": [
    "#删除列表中任意位置的元素\n",
    "my_list = [1, 'hello', 3.14, True]\n",
    "last_item = my_list.pop(2)\n",
    "print(last_item)\n",
    "print(my_list)"
   ]
  },
  {
   "cell_type": "code",
   "execution_count": 35,
   "id": "bc9077be-85b7-44bf-9fa3-f30dc0594127",
   "metadata": {},
   "outputs": [
    {
     "name": "stdout",
     "output_type": "stream",
     "text": [
      "[1, 'hello', 5000, 3.14, True]\n",
      "[1, 'hello', 3.14, True]\n"
     ]
    }
   ],
   "source": [
    "#根据值删除元\n",
    "my_list = [1, 'hello', 5000, 3.14, True]\n",
    "print(my_list)\n",
    "my_list.remove(5000)\n",
    "print(my_list)"
   ]
  },
  {
   "cell_type": "code",
   "execution_count": 49,
   "id": "3b8876bc-6c2a-4cfb-9dd4-c966b8b39db4",
   "metadata": {},
   "outputs": [
    {
     "name": "stdout",
     "output_type": "stream",
     "text": [
      "[1, 1, 2, 3, 4, 5, 9]\n",
      "[9, 5, 4, 3, 2, 1, 1]\n",
      "[9, 5, 4, 3, 2, 1, 1]\n"
     ]
    }
   ],
   "source": [
    "#使用 sort() 方法对列表进行永久排序\n",
    "numbers = [3, 1, 4, 1, 5, 9, 2]\n",
    "numbers.sort()  # 永久排序\n",
    "print(numbers)\n",
    "numbers.sort(reverse=True)  # 大到小\n",
    "print(numbers)\n",
    "print(numbers)"
   ]
  },
  {
   "cell_type": "code",
   "execution_count": 50,
   "id": "0d5dc585-1e03-48f5-8ea7-2c39790355a7",
   "metadata": {},
   "outputs": [
    {
     "name": "stdout",
     "output_type": "stream",
     "text": [
      "[1, 1, 2, 3, 4, 5, 9]\n",
      "[9, 5, 4, 3, 2, 1, 1]\n",
      "[3, 1, 4, 1, 5, 9, 2]\n"
     ]
    }
   ],
   "source": [
    "#使用 sorted() 函数对列表进行临时排序\n",
    "numbers = [3, 1, 4, 1, 5, 9, 2]\n",
    "print(sorted(numbers))\n",
    "print(sorted(numbers, reverse=True))\n",
    "print(numbers) #和初始的numbers排序一致"
   ]
  },
  {
   "cell_type": "code",
   "execution_count": 53,
   "id": "00a0c896-7288-4512-8883-42e943d6f631",
   "metadata": {},
   "outputs": [
    {
     "name": "stdout",
     "output_type": "stream",
     "text": [
      "['A', 5, 3, 2, 1]\n",
      "['A', 5, 3, 2, 1]\n"
     ]
    }
   ],
   "source": [
    "#反向打印列表\n",
    "numbers = [1, 2, 3, 5, 'A']\n",
    "numbers.reverse()\n",
    "print(numbers)\n",
    "print(numbers)"
   ]
  },
  {
   "cell_type": "code",
   "execution_count": 54,
   "id": "fbd5606c-8d47-4c6e-9805-887c226e00fb",
   "metadata": {},
   "outputs": [
    {
     "name": "stdout",
     "output_type": "stream",
     "text": [
      "5\n"
     ]
    }
   ],
   "source": [
    "#确定列表的长度\n",
    "numbers = [1, 2, 3, 5, 'A']\n",
    "print(len(numbers))"
   ]
  },
  {
   "cell_type": "code",
   "execution_count": 62,
   "id": "8a59faba-353a-4eab-8b16-719b0fc46995",
   "metadata": {},
   "outputs": [
    {
     "name": "stdout",
     "output_type": "stream",
     "text": [
      "[1, 2, 3, 5, 'A']\n"
     ]
    }
   ],
   "source": [
    "#使用列表时避免索引错误\n",
    "numbers = [1, 2, 3, 5, 'A']\n",
    "\n",
    "if len(numbers) > 3:\n",
    "    print(numbers)  #确保索引不会超出范围"
   ]
  }
 ],
 "metadata": {
  "kernelspec": {
   "display_name": "Python 3 (ipykernel)",
   "language": "python",
   "name": "python3"
  },
  "language_info": {
   "codemirror_mode": {
    "name": "ipython",
    "version": 3
   },
   "file_extension": ".py",
   "mimetype": "text/x-python",
   "name": "python",
   "nbconvert_exporter": "python",
   "pygments_lexer": "ipython3",
   "version": "3.11.5"
  }
 },
 "nbformat": 4,
 "nbformat_minor": 5
}
