{
 "cells": [
  {
   "cell_type": "code",
   "execution_count": 4,
   "id": "37d76c29-05a4-452f-81c3-a34c70d3865f",
   "metadata": {},
   "outputs": [],
   "source": [
    "#创建 Dog 类和 init() 方法\n",
    "class Dog:\n",
    "    \n",
    "    def __init__(self, name, age):\n",
    "        self.name = name\n",
    "        self.age = age\n",
    "    \n",
    "    def bark(self):\n",
    "        print(f\"Age: {self.age}  Name: {self.name}\")\n",
    "        \n",
    "my_dog = Dog('Jay', 6)"
   ]
  },
  {
   "cell_type": "code",
   "execution_count": 7,
   "id": "b516a9b8-0a84-45e9-b90f-12bc99579a8a",
   "metadata": {
    "tags": []
   },
   "outputs": [
    {
     "name": "stdout",
     "output_type": "stream",
     "text": [
      "Jay\n",
      "6\n"
     ]
    }
   ],
   "source": [
    "#根据类创建实例并访问属性\n",
    "print(my_dog.name)\n",
    "print(my_dog.age)"
   ]
  },
  {
   "cell_type": "code",
   "execution_count": 8,
   "id": "84191f84-145d-432b-a2fb-f01c60159476",
   "metadata": {
    "tags": []
   },
   "outputs": [
    {
     "name": "stdout",
     "output_type": "stream",
     "text": [
      "Age: 6  Name: Jay\n"
     ]
    }
   ],
   "source": [
    "#调用方法\n",
    "my_dog.bark()"
   ]
  },
  {
   "cell_type": "code",
   "execution_count": 18,
   "id": "e297f775-4058-47d6-8a80-306d539f0e75",
   "metadata": {
    "tags": []
   },
   "outputs": [
    {
     "name": "stdout",
     "output_type": "stream",
     "text": [
      "本次购买的车品牌为：Tesla | 本次购买的车型号为：Model X | 本次购买的车年份为：2023 本次购买的车里程数为： 0\n"
     ]
    }
   ],
   "source": [
    "##创建 Car 类和设置默认属性值\n",
    "#条件make(品牌) model(型号) year(年份) odometer_reading(里程数)\n",
    "class Car:\n",
    "    def __init__(self, make, model, year):\n",
    "        self.make = make\n",
    "        self.model = model\n",
    "        self.year = year\n",
    "        self.odometer_reading = 0\n",
    "    \n",
    "    def read_odometer(self):\n",
    "        print(f\"本次购买的车品牌为：{self.make} | 本次购买的车型号为：{self.model} | 本次购买的车年份为：{self.year} 本次购买的车里程数为： {self.odometer_reading}\")\n",
    "\n",
    "my_car = Car('Tesla', 'Model X', 2023)\n",
    "my_car.read_odometer()"
   ]
  },
  {
   "cell_type": "code",
   "execution_count": 19,
   "id": "f6b7d2a7-eb5e-423e-93cb-114867d69a64",
   "metadata": {
    "tags": []
   },
   "outputs": [
    {
     "name": "stdout",
     "output_type": "stream",
     "text": [
      "本次购买的车品牌为：Tesla | 本次购买的车型号为：Model X | 本次购买的车年份为：2023 本次购买的车里程数为： 25\n"
     ]
    }
   ],
   "source": [
    "#直接修改属性的值\n",
    "my_car.odometer_reading = 25\n",
    "my_car.read_odometer()"
   ]
  },
  {
   "cell_type": "code",
   "execution_count": 24,
   "id": "2f0ea900-ac52-4441-a979-af69dd06b1ac",
   "metadata": {
    "tags": []
   },
   "outputs": [
    {
     "name": "stdout",
     "output_type": "stream",
     "text": [
      "本次购买的车品牌为：Tesla | 本次购买的车型号为：Model X | 本次购买的车年份为：2023 本次购买的车里程数为： 45\n"
     ]
    }
   ],
   "source": [
    "#通过方法修改属性的值\n",
    "class Car:\n",
    "    def __init__(self, make, model, year):\n",
    "        self.make = make\n",
    "        self.model = model\n",
    "        self.year = year\n",
    "        self.odometer_reading = 0\n",
    "    \n",
    "    def read_odometer(self):\n",
    "        print(f\"本次购买的车品牌为：{self.make} | 本次购买的车型号为：{self.model} | 本次购买的车年份为：{self.year} 本次购买的车里程数为： {self.odometer_reading}\")\n",
    "    \n",
    "    '''修改处'''\n",
    "    def update_odometer(self, mileage):\n",
    "        self.odometer_reading = mileage\n",
    "        \n",
    "my_car = Car('Tesla', 'Model X', 2023)\n",
    "my_car.update_odometer(45)\n",
    "my_car.read_odometer()"
   ]
  },
  {
   "cell_type": "code",
   "execution_count": 27,
   "id": "2908bb39-856a-4cd3-9fb0-4c755ef28e9a",
   "metadata": {
    "tags": []
   },
   "outputs": [
    {
     "name": "stdout",
     "output_type": "stream",
     "text": [
      "本次购买的车品牌为：Tesla | 本次购买的车型号为：Model X | 本次购买的车年份为：2023 本次购买的车里程数为： 145\n"
     ]
    },
    {
     "data": {
      "text/plain": [
       "'\\nQ: 145怎么来的？\\n\\nA: self.odometer_reading = 0\\nupdate_odometer()的mileage 赋值给原 odometer_reading\\nincrement_odometer()为前面update_odometer()的值加上miles自己的值\\n得出：\\nmy_car.update_odometer(45)\\nmy_car.increment_odometer(100)\\nread_odometer()的self.odometer_reading = 145\\n'"
      ]
     },
     "execution_count": 27,
     "metadata": {},
     "output_type": "execute_result"
    }
   ],
   "source": [
    "#通过方法让属性的值递增\n",
    "class Car:\n",
    "    def __init__(self, make, model, year):\n",
    "        self.make = make\n",
    "        self.model = model\n",
    "        self.year = year\n",
    "        self.odometer_reading = 0\n",
    "    \n",
    "    def read_odometer(self):\n",
    "        print(f\"本次购买的车品牌为：{self.make} | 本次购买的车型号为：{self.model} | 本次购买的车年份为：{self.year} 本次购买的车里程数为： {self.odometer_reading}\")\n",
    "    \n",
    "    def update_odometer(self, mileage):\n",
    "        self.odometer_reading = mileage\n",
    "    \n",
    "    '''递增'''\n",
    "    def increment_odometer(self, miles):\n",
    "        self.odometer_reading += miles\n",
    "        \n",
    "my_car = Car('Tesla', 'Model X', 2023)\n",
    "my_car.update_odometer(45)\n",
    "my_car.increment_odometer(100)\n",
    "my_car.read_odometer()\n",
    "\n",
    "\n",
    "'''\n",
    "Q: 145怎么来的？\n",
    "\n",
    "A: self.odometer_reading = 0\n",
    "update_odometer()的mileage 赋值给原 odometer_reading\n",
    "increment_odometer()为前面update_odometer()的值加上miles自己的值\n",
    "得出：\n",
    "my_car.update_odometer(45)\n",
    "my_car.increment_odometer(100)\n",
    "read_odometer()的self.odometer_reading = 145\n",
    "'''"
   ]
  },
  {
   "cell_type": "code",
   "execution_count": 29,
   "id": "50c3ec51-b28f-423f-866a-04d745b80777",
   "metadata": {
    "tags": []
   },
   "outputs": [
    {
     "name": "stdout",
     "output_type": "stream",
     "text": [
      "75\n"
     ]
    }
   ],
   "source": [
    "#继承和子类的 init() 方法\n",
    "class ElectricCar(Car):\n",
    "    \n",
    "    def __init__(self, make, model, year):\n",
    "        super().__init__(make, model, year)\n",
    "        self.battery_size = 75  #给子类定义属性\n",
    "\n",
    "my_tesla = ElectricCar('Tesla', 'Model S', 2020)\n",
    "print(my_tesla.battery_size)"
   ]
  },
  {
   "cell_type": "code",
   "execution_count": 31,
   "id": "0ad21120-690d-4d26-ac23-f5dc9b62cf62",
   "metadata": {
    "tags": []
   },
   "outputs": [
    {
     "name": "stdout",
     "output_type": "stream",
     "text": [
      "This car doesn't need a gas tank!\n"
     ]
    }
   ],
   "source": [
    "#重写父类中的方法\n",
    "class ElectricCar(Car):\n",
    "    \n",
    "    def __init__(self, make, model, year):\n",
    "        super().__init__(make, model, year)\n",
    "        self.battery_size = 75  #给子类定义属性\n",
    "        \n",
    "    def fill_gas_tank(self):\n",
    "        print(\"This car doesn't need a gas tank!\")  # 重写方法\n",
    "\n",
    "my_tesla = ElectricCar('Tesla', 'Model S', 2020)\n",
    "my_tesla.fill_gas_tank()"
   ]
  },
  {
   "cell_type": "code",
   "execution_count": 33,
   "id": "5adaef35-b096-4071-a943-cc3e1a35e2d9",
   "metadata": {
    "tags": []
   },
   "outputs": [
    {
     "name": "stdout",
     "output_type": "stream",
     "text": [
      "75\n"
     ]
    }
   ],
   "source": [
    "#将实例用作属性\n",
    "class Battery:\n",
    "    def __init__(self, battery_size=75):\n",
    "        self.battery_size = battery_size\n",
    "\n",
    "class ElectricCar(Car):\n",
    "    \n",
    "    def __init__(self, make, model, year):\n",
    "        super().__init__(make, model, year)\n",
    "        self.battery = Battery()\n",
    "my_tesla = ElectricCar('Tesla', 'Model S', 2020)\n",
    "print(my_tesla.battery.battery_size)"
   ]
  },
  {
   "cell_type": "code",
   "execution_count": null,
   "id": "6c5dd944-005c-4596-a62c-b5e75c08c4e5",
   "metadata": {},
   "outputs": [],
   "source": [
    "#导入类和模块\n",
    "\n",
    "'''\n",
    "单个类：from car_module import Car\n",
    "多个类：from car_module import Car, ElectricCar\n",
    "整个模块：import car_module\n",
    "模块中所有类：from car_module import *\n",
    "使用别名：import car_module as cm\n",
    "'''"
   ]
  },
  {
   "cell_type": "code",
   "execution_count": 35,
   "id": "525b3934-1ca2-4522-abf1-3ba9d98d9e8f",
   "metadata": {
    "tags": []
   },
   "outputs": [
    {
     "data": {
      "text/plain": [
       "\"\\nimport car_module as cm\\nmy_beetle = cm.Car('Volkswagen', 'Beetle', 2019)\\n\""
      ]
     },
     "execution_count": 35,
     "metadata": {},
     "output_type": "execute_result"
    }
   ],
   "source": [
    "#使用别名\n",
    "'''\n",
    "import car_module as cm\n",
    "my_beetle = cm.Car('Volkswagen', 'Beetle', 2019)\n",
    "'''"
   ]
  }
 ],
 "metadata": {
  "kernelspec": {
   "display_name": "Python 3 (ipykernel)",
   "language": "python",
   "name": "python3"
  },
  "language_info": {
   "codemirror_mode": {
    "name": "ipython",
    "version": 3
   },
   "file_extension": ".py",
   "mimetype": "text/x-python",
   "name": "python",
   "nbconvert_exporter": "python",
   "pygments_lexer": "ipython3",
   "version": "3.11.5"
  }
 },
 "nbformat": 4,
 "nbformat_minor": 5
}
