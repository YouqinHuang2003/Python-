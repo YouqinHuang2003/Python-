{
 "cells": [
  {
   "cell_type": "code",
   "execution_count": 6,
   "id": "291d5dcd-87e3-4eae-9d93-cfbea859b922",
   "metadata": {
    "tags": []
   },
   "outputs": [
    {
     "name": "stdout",
     "output_type": "stream",
     "text": [
      "Hello World\n",
      "Hello\n"
     ]
    },
    {
     "data": {
      "text/plain": [
       "'Hello'"
      ]
     },
     "execution_count": 6,
     "metadata": {},
     "output_type": "execute_result"
    }
   ],
   "source": [
    "#定义函数\n",
    "def greet_user():\n",
    "    print(\"Hello World\")\n",
    "greet_user()\n",
    "'''.................'''\n",
    "def greet_user2():\n",
    "    return \"Hello\"\n",
    "print(greet_user2())\n",
    "greet_user2()"
   ]
  },
  {
   "cell_type": "code",
   "execution_count": 7,
   "id": "777116c3-abe5-4242-a71e-611068a6f750",
   "metadata": {
    "tags": []
   },
   "outputs": [
    {
     "name": "stdout",
     "output_type": "stream",
     "text": [
      "Hello! JieYang\n"
     ]
    }
   ],
   "source": [
    "#向函数传递信息\n",
    "def user(name):\n",
    "    print(f\"Hello! {name}\")\n",
    "user(\"JieYang\")"
   ]
  },
  {
   "cell_type": "code",
   "execution_count": 9,
   "id": "d70d67bc-9639-4a80-a17c-a4650ac3bcb1",
   "metadata": {
    "tags": []
   },
   "outputs": [
    {
     "name": "stdout",
     "output_type": "stream",
     "text": [
      "Your input: 4 3 2\n",
      "Your input: 3 8 5\n"
     ]
    }
   ],
   "source": [
    "#位置实参\n",
    "def con(a,b,c):\n",
    "    print(f\"Your input: {a} {b} {c}\")\n",
    "con(4,3,2) #con(a,b,c)\n",
    "con(3,8,5)"
   ]
  },
  {
   "cell_type": "code",
   "execution_count": 10,
   "id": "d0ea100f-0fc5-4363-b498-0b1200cc3a1c",
   "metadata": {
    "tags": []
   },
   "outputs": [
    {
     "name": "stdout",
     "output_type": "stream",
     "text": [
      "Your input: 6 9 2\n"
     ]
    }
   ],
   "source": [
    "#关键字实参\n",
    "con(b=9,c=2,a=6)"
   ]
  },
  {
   "cell_type": "code",
   "execution_count": 11,
   "id": "d2d1cd8a-3cc4-433f-9ab6-06190c8b1c4d",
   "metadata": {
    "tags": []
   },
   "outputs": [
    {
     "name": "stdout",
     "output_type": "stream",
     "text": [
      "Your input: 4 3 5000\n",
      "Your input: 3 8 5\n"
     ]
    }
   ],
   "source": [
    "#默认值\n",
    "def con(a,b,c=5000):\n",
    "    print(f\"Your input: {a} {b} {c}\")\n",
    "con(4,3) #con(a,b,c=不传值为默认)\n",
    "con(3,8,5)"
   ]
  },
  {
   "cell_type": "code",
   "execution_count": 41,
   "id": "2a1542ac-6868-496d-b9b8-dec33d1b274a",
   "metadata": {
    "tags": []
   },
   "outputs": [
    {
     "data": {
      "text/plain": [
       "'Ben Jan'"
      ]
     },
     "execution_count": 41,
     "metadata": {},
     "output_type": "execute_result"
    }
   ],
   "source": [
    "#返回简单的值\n",
    "def name(aname, bname):\n",
    "    full_name = f\"{aname} {bname}\"\n",
    "    return full_name.title()\n",
    "name('ben', 'jan')"
   ]
  },
  {
   "cell_type": "code",
   "execution_count": 42,
   "id": "f80a1a4d-0bfb-4c70-a981-b4d3c0810c08",
   "metadata": {
    "tags": []
   },
   "outputs": [
    {
     "name": "stdout",
     "output_type": "stream",
     "text": [
      "Yang Jie\n",
      "Huang Jay Yang\n"
     ]
    }
   ],
   "source": [
    "#让实参变成可选的\n",
    "def get_name(first_name, last_name, middle_name=''):\n",
    "    if middle_name:\n",
    "        print(f\"{first_name} {middle_name} {last_name}\")\n",
    "    else:\n",
    "        print(f\"{first_name} {last_name}\")\n",
    "get_name('Yang', 'Jie')\n",
    "get_name('Huang', 'Yang', 'Jay')"
   ]
  },
  {
   "cell_type": "code",
   "execution_count": 56,
   "id": "e97982ac-74f2-41e2-9343-2bf43d97e35d",
   "metadata": {
    "tags": []
   },
   "outputs": [
    {
     "name": "stdout",
     "output_type": "stream",
     "text": [
      "{\"JieYang's university\": 'Guangzhou', \"JayHuang's university\": 'Shanghai Jiao Tong'}\n"
     ]
    }
   ],
   "source": [
    "#返回字典\n",
    "def univer(jay_univer, jie_univer):\n",
    "    jay_jie_univer = {\n",
    "        \"JieYang's university\" : jie_univer,\n",
    "        \"JayHuang's university\" : jay_univer\n",
    "    }\n",
    "    return jay_jie_univer\n",
    "bro_univer = univer(jay_univer = \"Shanghai Jiao Tong\", jie_univer = \"Guangzhou\")\n",
    "print(bro_univer)"
   ]
  },
  {
   "cell_type": "code",
   "execution_count": 59,
   "id": "41dd504c-807f-4c3f-95ac-493742328df5",
   "metadata": {
    "tags": []
   },
   "outputs": [
    {
     "name": "stdout",
     "output_type": "stream",
     "text": [
      "Hello! Jay\n",
      "Hello! Jie\n",
      "Hello! Qi\n"
     ]
    }
   ],
   "source": [
    "#传递列表\n",
    "def users(names):\n",
    "    for name in names:\n",
    "        msg = f\"Hello! {name.title()}\"\n",
    "        print(msg)\n",
    "user_names = ['jay', 'jie', 'qi']\n",
    "users(user_names)"
   ]
  },
  {
   "cell_type": "code",
   "execution_count": 86,
   "id": "de76fa2d-0e1f-45c7-8e80-5c9c53da0338",
   "metadata": {
    "tags": []
   },
   "outputs": [
    {
     "name": "stdout",
     "output_type": "stream",
     "text": [
      "Printing model: Dodecahedron\n",
      "Printing model: Robot Pendant\n",
      "Printing model: Phone Case\n",
      "['dodecahedron', 'robot pendant', 'phone case']\n"
     ]
    }
   ],
   "source": [
    "#在函数中修改列表\n",
    "#completed_models验证用\n",
    "def print_models(unprinted_designs, completed_models):\n",
    "    while unprinted_designs:\n",
    "        current_design = unprinted_designs.pop()\n",
    "        print(f\"Printing model: {current_design.title()}\")\n",
    "        completed_models.append(current_design)\n",
    "\n",
    "unprinted_designs = ['phone case', 'robot pendant', 'dodecahedron']\n",
    "completed_models = []\n",
    "print_models(unprinted_designs, completed_models)\n",
    "print(completed_models)#验证"
   ]
  },
  {
   "cell_type": "code",
   "execution_count": 94,
   "id": "181ef7ce-db8c-4419-972d-27f8e6eea315",
   "metadata": {
    "tags": []
   },
   "outputs": [
    {
     "name": "stdout",
     "output_type": "stream",
     "text": [
      "-2\n",
      "\n",
      "-3\n",
      "\n",
      "-45\n",
      "\n",
      "-3\n",
      "\n",
      "-3\n",
      "\n",
      "-45\n",
      "\n",
      "-6\n",
      "\n"
     ]
    }
   ],
   "source": [
    "#传递任意数量的实参\n",
    "def CON(*numbers):\n",
    "    for number in numbers:\n",
    "        print(f\"-{number}\\n\")\n",
    "CON(2,3,45,3,3,45,6) "
   ]
  },
  {
   "cell_type": "code",
   "execution_count": 111,
   "id": "2dc6a2a8-5447-400c-a74d-9c48a0560005",
   "metadata": {
    "tags": []
   },
   "outputs": [
    {
     "name": "stdout",
     "output_type": "stream",
     "text": [
      "请输入您的年龄和喜欢的数字\n",
      "您的年龄是：21\n",
      "您喜欢的数字是：69\n",
      "您喜欢的数字是：78\n",
      "您喜欢的数字是：87\n"
     ]
    }
   ],
   "source": [
    "#结合使用位置实参和任意数量的实参\n",
    "def CON2(age, *intagers):\n",
    "    print(f\"请输入您的年龄和喜欢的数字\")\n",
    "    print(f\"您的年龄是：{age}\")\n",
    "    for intager in intagers:\n",
    "        print(f\"您喜欢的数字是：{intager}\")\n",
    "CON2(21, 69, 78, 87)"
   ]
  },
  {
   "cell_type": "code",
   "execution_count": 124,
   "id": "99c53ff7-cc59-4553-82d7-cd39a0909cf0",
   "metadata": {
    "tags": []
   },
   "outputs": [
    {
     "name": "stdout",
     "output_type": "stream",
     "text": [
      "{'age': 25, 'likecolor': 'Blue', 'first_name': 'Yang', 'last_name': 'jie'}\n"
     ]
    }
   ],
   "source": [
    "#使用任意数量的关键字实参\n",
    "def build_bro(first, last, **bro_info):\n",
    "    bro_info['first_name'] = first\n",
    "    bro_info['last_name'] = last\n",
    "    return bro_info\n",
    "    \n",
    "bro = build_bro('Yang', 'jie', age = 25, likecolor = 'Blue')\n",
    "print(bro)"
   ]
  }
 ],
 "metadata": {
  "kernelspec": {
   "display_name": "Python 3 (ipykernel)",
   "language": "python",
   "name": "python3"
  },
  "language_info": {
   "codemirror_mode": {
    "name": "ipython",
    "version": 3
   },
   "file_extension": ".py",
   "mimetype": "text/x-python",
   "name": "python",
   "nbconvert_exporter": "python",
   "pygments_lexer": "ipython3",
   "version": "3.11.5"
  }
 },
 "nbformat": 4,
 "nbformat_minor": 5
}
