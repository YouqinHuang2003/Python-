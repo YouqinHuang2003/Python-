{
 "cells": [
  {
   "cell_type": "code",
   "execution_count": 1,
   "id": "e803f3fc-3cf4-42cd-b74e-f3b4be06e594",
   "metadata": {
    "tags": []
   },
   "outputs": [
    {
     "name": "stdout",
     "output_type": "stream",
     "text": [
      "Hello! Curry\n"
     ]
    }
   ],
   "source": [
    "#导入特定的函数\n",
    "from module1 import say_Hello\n",
    "say_Hello(\"Curry\")"
   ]
  }
 ],
 "metadata": {
  "kernelspec": {
   "display_name": "Python 3 (ipykernel)",
   "language": "python",
   "name": "python3"
  },
  "language_info": {
   "codemirror_mode": {
    "name": "ipython",
    "version": 3
   },
   "file_extension": ".py",
   "mimetype": "text/x-python",
   "name": "python",
   "nbconvert_exporter": "python",
   "pygments_lexer": "ipython3",
   "version": "3.11.5"
  }
 },
 "nbformat": 4,
 "nbformat_minor": 5
}
