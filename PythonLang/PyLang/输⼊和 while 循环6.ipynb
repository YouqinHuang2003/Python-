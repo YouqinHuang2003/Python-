{
 "cells": [
  {
   "cell_type": "code",
   "execution_count": 1,
   "id": "20f49e11-87d9-4ecc-9b21-aaf0f783ec84",
   "metadata": {
    "tags": []
   },
   "outputs": [
    {
     "name": "stdin",
     "output_type": "stream",
     "text": [
      " 123\n"
     ]
    },
    {
     "name": "stdout",
     "output_type": "stream",
     "text": [
      "123\n"
     ]
    }
   ],
   "source": [
    "#input() 函数的工作原理\n",
    "message = input()\n",
    "print(message)"
   ]
  },
  {
   "cell_type": "code",
   "execution_count": 3,
   "id": "342568d7-5d81-44a9-b701-60ae387d306a",
   "metadata": {
    "tags": []
   },
   "outputs": [
    {
     "name": "stdin",
     "output_type": "stream",
     "text": [
      "请输入您的姓名： YangJayHuang\n"
     ]
    },
    {
     "name": "stdout",
     "output_type": "stream",
     "text": [
      "您好！YangJayHuang\n"
     ]
    }
   ],
   "source": [
    "#编写清晰的提示\n",
    "name = input(\"请输入您的姓名：\")\n",
    "print(f\"您好！{name}\")"
   ]
  },
  {
   "cell_type": "code",
   "execution_count": 5,
   "id": "ce14d0c7-0da1-4599-8641-7f60fc5ac82c",
   "metadata": {
    "tags": []
   },
   "outputs": [
    {
     "name": "stdin",
     "output_type": "stream",
     "text": [
      "请出入您的出生西元年： 2003\n"
     ]
    },
    {
     "name": "stdout",
     "output_type": "stream",
     "text": [
      "您今年生日是 21 岁\n"
     ]
    }
   ],
   "source": [
    "#使用int()来获取数值输入\n",
    "age = int(input(\"请出入您的出生西元年：\"))\n",
    "print(f\"您今年生日是 {2024 - age} 岁\")"
   ]
  },
  {
   "cell_type": "code",
   "execution_count": 7,
   "id": "3656486e-2b8a-476b-9157-8348cac860d0",
   "metadata": {
    "tags": []
   },
   "outputs": [
    {
     "name": "stdin",
     "output_type": "stream",
     "text": [
      "请出入一个数次 3\n"
     ]
    },
    {
     "name": "stdout",
     "output_type": "stream",
     "text": [
      "奇数\n"
     ]
    }
   ],
   "source": [
    "#求模运算符\n",
    "number = int(input(\"请出入一个数次\"))\n",
    "if number % 2 == 0:\n",
    "    print(f\"偶数\")\n",
    "else:\n",
    "    print(f\"奇数\")"
   ]
  },
  {
   "cell_type": "code",
   "execution_count": 8,
   "id": "a9024581-39ad-4b82-8160-aca720b4acc8",
   "metadata": {
    "tags": []
   },
   "outputs": [
    {
     "name": "stdout",
     "output_type": "stream",
     "text": [
      "0\n",
      "1\n",
      "2\n",
      "3\n",
      "4\n"
     ]
    }
   ],
   "source": [
    "#使用while循环\n",
    "number = 0\n",
    "while number < 5:\n",
    "    print(number)\n",
    "    number += 1 #number = number + 1"
   ]
  },
  {
   "cell_type": "code",
   "execution_count": 11,
   "id": "0773e0b5-7d26-4a52-a02a-ee8eea0bab58",
   "metadata": {
    "tags": []
   },
   "outputs": [
    {
     "name": "stdin",
     "output_type": "stream",
     "text": [
      "\n",
      "输入‘退出’即可结束程序： 您好\n"
     ]
    },
    {
     "name": "stdout",
     "output_type": "stream",
     "text": [
      "您好\n"
     ]
    },
    {
     "name": "stdin",
     "output_type": "stream",
     "text": [
      "\n",
      "输入‘退出’即可结束程序： 退出\n"
     ]
    }
   ],
   "source": [
    "#让用户选择何时退出\n",
    "prompt = \"\\n输入‘退出’即可结束程序：\"\n",
    "message = \"\"\n",
    "while message != '退出':\n",
    "    message = input(prompt)\n",
    "    if message != '退出':\n",
    "        print(message)"
   ]
  },
  {
   "cell_type": "code",
   "execution_count": 14,
   "id": "b77dd49f-6fc3-40e6-8a7e-ed59913a2b15",
   "metadata": {
    "tags": []
   },
   "outputs": [
    {
     "name": "stdin",
     "output_type": "stream",
     "text": [
      "\n",
      "输入‘退出’即可结束程序： 嗨\n",
      "\n",
      "输入‘退出’即可结束程序： 退出\n"
     ]
    }
   ],
   "source": [
    "##使用标志\n",
    "active = True\n",
    "while active:\n",
    "    message = input(prompt)\n",
    "    if message == '退出':\n",
    "        active = False"
   ]
  },
  {
   "cell_type": "code",
   "execution_count": 15,
   "id": "4c026061-314a-47f8-8318-45ece2ba4e8e",
   "metadata": {
    "tags": []
   },
   "outputs": [
    {
     "name": "stdin",
     "output_type": "stream",
     "text": [
      "\n",
      "输入‘退出’即可结束程序： Console\n",
      "\n",
      "输入‘退出’即可结束程序： 退出\n"
     ]
    }
   ],
   "source": [
    "#使用break退出循环\n",
    "while True:\n",
    "    message = input(prompt)\n",
    "    if message == '退出':\n",
    "        break"
   ]
  },
  {
   "cell_type": "code",
   "execution_count": 17,
   "id": "144baa08-9f78-436f-9e67-fe10b2e03768",
   "metadata": {
    "tags": []
   },
   "outputs": [
    {
     "name": "stdout",
     "output_type": "stream",
     "text": [
      "1\n",
      "3\n",
      "5\n",
      "7\n",
      "9\n"
     ]
    }
   ],
   "source": [
    "#在循环中使用continue\n",
    "current_number = 0\n",
    "while current_number < 10:\n",
    "    current_number += 1\n",
    "    if current_number % 2 == 0:\n",
    "        continue\n",
    "    print(current_number)"
   ]
  },
  {
   "cell_type": "code",
   "execution_count": 19,
   "id": "831537c0-1651-4cfb-90ef-8f1691730213",
   "metadata": {
    "tags": []
   },
   "outputs": [
    {
     "name": "stdout",
     "output_type": "stream",
     "text": [
      "0\n",
      "1\n",
      "2\n",
      "3\n",
      "4\n"
     ]
    }
   ],
   "source": [
    "#避免无限循环\n",
    "count = 0\n",
    "while count < 5:\n",
    "    print(count)\n",
    "    count += 1 #没有此行代码会进入无限循环"
   ]
  },
  {
   "cell_type": "code",
   "execution_count": 27,
   "id": "19bee928-9077-4aed-b867-dfb3c15860c7",
   "metadata": {
    "tags": []
   },
   "outputs": [
    {
     "name": "stdout",
     "output_type": "stream",
     "text": [
      "\n",
      "验证用户Curry\n",
      "\n",
      "验证用户Jieyang\n",
      "\n",
      "验证用户Yangjay\n",
      "\n",
      "已验证用户：\n",
      "Curry\n",
      "Jieyang\n",
      "Yangjay\n"
     ]
    }
   ],
   "source": [
    "#在列表之间移动元素\n",
    "\n",
    "#在while循环中处理列表\n",
    "un_users = ['yangjay', 'jieyang', 'curry'] #创建列表\n",
    "con_users = [] #空列表\n",
    "while un_users: #列表不为空就会继续循环\n",
    "    cur_users = un_users.pop() #un_users每次删除的值赋值给cur_users\n",
    "    print(f\"\\n验证用户{cur_users.title()}\") #每次循环打印cur_users赋值的值\n",
    "    con_users.append(cur_users) #将元素添加到con_users\n",
    "\n",
    "print(f\"\\n已验证用户：\")\n",
    "for user in con_users: \n",
    "    print(user.title())"
   ]
  },
  {
   "cell_type": "code",
   "execution_count": 30,
   "id": "6dbf3152-9866-4964-b547-2145c4617243",
   "metadata": {
    "tags": []
   },
   "outputs": [
    {
     "name": "stdout",
     "output_type": "stream",
     "text": [
      "['dog', 'cat', 'dog', 'goldfish', 'cat', 'rabbit', 'cat']\n",
      "['dog', 'dog', 'goldfish', 'rabbit']\n"
     ]
    }
   ],
   "source": [
    "#删除为特定值的所有列表元素\n",
    "pets = ['dog', 'cat', 'dog', 'goldfish', 'cat', 'rabbit', 'cat']\n",
    "print(pets)\n",
    "while 'cat' in pets:\n",
    "    pets.remove('cat')\n",
    "print(pets)"
   ]
  },
  {
   "cell_type": "code",
   "execution_count": 37,
   "id": "de2bf917-779f-4a37-9e6b-691c69a53f59",
   "metadata": {
    "tags": []
   },
   "outputs": [
    {
     "name": "stdin",
     "output_type": "stream",
     "text": [
      "输入您的名字： Yangjay\n",
      "输入您喜欢的颜色 Blue\n",
      "是否有其他人要参与（是/否）： 是\n",
      "输入您的名字： Jieyang\n",
      "输入您喜欢的颜色 Yellow\n",
      "是否有其他人要参与（是/否）： 否\n"
     ]
    },
    {
     "name": "stdout",
     "output_type": "stream",
     "text": [
      "\n",
      "调查结果\n",
      "Yangjay喜欢的颜色是Blue。\n",
      "Jieyang喜欢的颜色是Yellow。\n"
     ]
    }
   ],
   "source": [
    "#使用用户输入填充字典\n",
    "responses = {}\n",
    "while True:\n",
    "    name = input(\"输入您的名字：\")\n",
    "    response = input(\"输入您喜欢的颜色\")\n",
    "    responses[name] = response #将输入传到字典中\n",
    "    repeat = input(\"是否有其他人要参与（是/否）：\")\n",
    "    if repeat == '否':\n",
    "        break\n",
    "\n",
    "print('\\n调查结果')\n",
    "for name, response in responses.items():\n",
    "    print(f\"{name}喜欢的颜色是{response}。\")"
   ]
  }
 ],
 "metadata": {
  "kernelspec": {
   "display_name": "Python 3 (ipykernel)",
   "language": "python",
   "name": "python3"
  },
  "language_info": {
   "codemirror_mode": {
    "name": "ipython",
    "version": 3
   },
   "file_extension": ".py",
   "mimetype": "text/x-python",
   "name": "python",
   "nbconvert_exporter": "python",
   "pygments_lexer": "ipython3",
   "version": "3.11.5"
  }
 },
 "nbformat": 4,
 "nbformat_minor": 5
}
