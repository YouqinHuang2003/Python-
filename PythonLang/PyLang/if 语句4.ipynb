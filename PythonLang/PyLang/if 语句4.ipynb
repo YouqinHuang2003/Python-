{
 "cells": [
  {
   "cell_type": "code",
   "execution_count": 13,
   "id": "a50ab9e9-f2de-46a9-8615-85f5f3751d5c",
   "metadata": {
    "tags": []
   },
   "outputs": [
    {
     "name": "stdout",
     "output_type": "stream",
     "text": [
      "正数\n"
     ]
    }
   ],
   "source": [
    "#简单的if语句示例\n",
    "number = 5\n",
    "if number > 0:\n",
    "    print(\"正数\")"
   ]
  },
  {
   "cell_type": "code",
   "execution_count": 16,
   "id": "be28ba63-7c2b-436c-92ec-840b80f853bd",
   "metadata": {
    "tags": []
   },
   "outputs": [
    {
     "name": "stdout",
     "output_type": "stream",
     "text": [
      "True\n"
     ]
    }
   ],
   "source": [
    "#检查是否相等\n",
    "username = \"admin\"\n",
    "if username == \"admin\":\n",
    "    print(True)"
   ]
  },
  {
   "cell_type": "code",
   "execution_count": 18,
   "id": "7ddf333a-cbbe-41e2-b7a7-4e9bcaa1cace",
   "metadata": {
    "tags": []
   },
   "outputs": [
    {
     "name": "stdout",
     "output_type": "stream",
     "text": [
      "产品是苹果\n"
     ]
    }
   ],
   "source": [
    "#忽略大小写的相等性检查\n",
    "product = \"Apple\"\n",
    "if product.lower() == \"apple\":\n",
    "    print(\"产品是苹果\") "
   ]
  },
  {
   "cell_type": "code",
   "execution_count": 19,
   "id": "f74f518c-6ea5-4aa9-9e66-cab4a7fe5cc3",
   "metadata": {
    "tags": []
   },
   "outputs": [
    {
     "name": "stdout",
     "output_type": "stream",
     "text": [
      "非儿童票\n"
     ]
    }
   ],
   "source": [
    "#检查是否不相等\n",
    "ticket = \"成年人\"\n",
    "if ticket != \"儿童\":\n",
    "    print(\"非儿童票\")"
   ]
  },
  {
   "cell_type": "code",
   "execution_count": 21,
   "id": "c507694f-b83b-496a-9dab-b0365b9fd519",
   "metadata": {
    "tags": []
   },
   "outputs": [
    {
     "data": {
      "text/plain": [
       "False"
      ]
     },
     "execution_count": 21,
     "metadata": {},
     "output_type": "execute_result"
    }
   ],
   "source": [
    "#数值比较\n",
    "age = 18\n",
    "age == 18\n",
    "#True\n",
    "\n",
    "age = 19\n",
    "age <= 20\n",
    "#Ture\n",
    "\n",
    "age = 19\n",
    "age >= 19\n",
    "#True\n",
    "\n",
    "age = 19\n",
    "age > 19\n",
    "#False"
   ]
  },
  {
   "cell_type": "code",
   "execution_count": 26,
   "id": "675b3856-8ed9-45df-8f85-1d0284437ddc",
   "metadata": {
    "tags": []
   },
   "outputs": [
    {
     "name": "stdout",
     "output_type": "stream",
     "text": [
      "允许入场\n"
     ]
    }
   ],
   "source": [
    "#使用and检查多个条件\n",
    "age = 20\n",
    "ticket = True\n",
    "if age > 18 and ticket:\n",
    "    print(\"允许入场\")"
   ]
  },
  {
   "cell_type": "code",
   "execution_count": 27,
   "id": "484f97d9-3de4-445d-aeb8-b0b781d8cf92",
   "metadata": {
    "tags": []
   },
   "outputs": [
    {
     "name": "stdout",
     "output_type": "stream",
     "text": [
      "允许入场\n"
     ]
    }
   ],
   "source": [
    "#使用or检查多个条件\n",
    "vip = True\n",
    "ticket = False\n",
    "if vip or ticket:\n",
    "    print(\"允许入场\")"
   ]
  },
  {
   "cell_type": "code",
   "execution_count": 28,
   "id": "3d69b65f-ad16-414d-a031-e55fd28d8745",
   "metadata": {
    "tags": []
   },
   "outputs": [
    {
     "name": "stdout",
     "output_type": "stream",
     "text": [
      "有苹果\n"
     ]
    }
   ],
   "source": [
    "#检查特定的值是否在列表中\n",
    "fruits = [\"apple\", \"banana\", \"cherry\"]\n",
    "if \"apple\" in fruits:\n",
    "    print(\"有苹果\")"
   ]
  },
  {
   "cell_type": "code",
   "execution_count": 29,
   "id": "f5f1a10a-f67c-4635-a7d1-123a08205848",
   "metadata": {
    "tags": []
   },
   "outputs": [
    {
     "name": "stdout",
     "output_type": "stream",
     "text": [
      "没有桃子\n"
     ]
    }
   ],
   "source": [
    "#检查特定的值是否不在列表中\n",
    "fruits = [\"apple\", \"banana\", \"cherry\"]\n",
    "if \"peach\" not in fruits:\n",
    "    print(\"没有桃子\")"
   ]
  },
  {
   "cell_type": "code",
   "execution_count": 30,
   "id": "0d399669-bc8d-47cb-8ee9-f0b9b9211469",
   "metadata": {
    "tags": []
   },
   "outputs": [
    {
     "name": "stdout",
     "output_type": "stream",
     "text": [
      "未成年\n"
     ]
    }
   ],
   "source": [
    "#if-else语句\n",
    "age = 17\n",
    "if age >= 18:\n",
    "    print(\"成年\")\n",
    "else:\n",
    "    print(\"未成年\")"
   ]
  },
  {
   "cell_type": "code",
   "execution_count": 31,
   "id": "834928cb-36bc-4dfc-bf6a-7549f0354875",
   "metadata": {
    "tags": []
   },
   "outputs": [
    {
     "name": "stdout",
     "output_type": "stream",
     "text": [
      "老年\n"
     ]
    }
   ],
   "source": [
    "#if-elif-else语句\n",
    "age = 65\n",
    "if age < 18:\n",
    "    print(\"未成年\")\n",
    "elif age < 65:\n",
    "    print(\"成年\")\n",
    "else:\n",
    "    print(\"老年\")"
   ]
  },
  {
   "cell_type": "code",
   "execution_count": 34,
   "id": "894c10a5-9ac2-408c-8a76-d93f87ce2a41",
   "metadata": {
    "tags": []
   },
   "outputs": [
    {
     "name": "stdout",
     "output_type": "stream",
     "text": [
      "成年\n"
     ]
    }
   ],
   "source": [
    "#省略else代码块\n",
    "age = 80\n",
    "if age < 18:\n",
    "    print(\"未成年\")\n",
    "elif age >= 18:\n",
    "    print(\"成年\")"
   ]
  },
  {
   "cell_type": "code",
   "execution_count": 35,
   "id": "86577b70-0733-4988-a372-e14cb0710bde",
   "metadata": {
    "tags": []
   },
   "outputs": [
    {
     "name": "stdout",
     "output_type": "stream",
     "text": [
      "管理员身份登入\n"
     ]
    }
   ],
   "source": [
    "#测试多个条件\n",
    "password = '13579'\n",
    "username = 'admin'\n",
    "if username == 'admin' and password == '13579':\n",
    "    print(\"管理员身份登入\")"
   ]
  },
  {
   "cell_type": "code",
   "execution_count": 38,
   "id": "29f97288-470a-4e59-8232-236354a9aec2",
   "metadata": {
    "tags": []
   },
   "outputs": [
    {
     "name": "stdout",
     "output_type": "stream",
     "text": [
      "你不是管理员\n"
     ]
    }
   ],
   "source": [
    "#检查特殊元素\n",
    "users = [\"admin\", \"john\", \"jane\", \"mike\", \"CURRY\"]\n",
    "if 'thompson' in users:\n",
    "    print(\"管理员身份\")\n",
    "else:\n",
    "    print(\"你不是管理员\")"
   ]
  },
  {
   "cell_type": "code",
   "execution_count": 41,
   "id": "6cd92dc0-bacf-4d78-8987-4b598427eb5c",
   "metadata": {
    "tags": []
   },
   "outputs": [
    {
     "name": "stdout",
     "output_type": "stream",
     "text": [
      "列表非空\n",
      "列表空\n"
     ]
    }
   ],
   "source": [
    "#确定列表非空\n",
    "users = [\"admin\", \"john\", \"jane\", \"mike\", \"CURRY\"]\n",
    "if users:\n",
    "    print(\"列表非空\")\n",
    "#-------------------------------------------------------\n",
    "users = []\n",
    "if users:\n",
    "    print(\"列表非空\")\n",
    "else:\n",
    "    print(\"列表空\")"
   ]
  },
  {
   "cell_type": "code",
   "execution_count": 43,
   "id": "bfbeaa74-6d3f-46af-81f5-4e1fec1dc38c",
   "metadata": {
    "tags": []
   },
   "outputs": [
    {
     "name": "stdout",
     "output_type": "stream",
     "text": [
      "peach\n",
      "apple\n"
     ]
    }
   ],
   "source": [
    "#使用多个列表\n",
    "available_fruits = [\"apple\", \"banana\", \"peach\"]\n",
    "favorite_fruits = [\"peach\", \"apple\", \"kiwi\", \"mango\"]\n",
    "for fruit in favorite_fruits:\n",
    "    if fruit in available_fruits:\n",
    "        print(fruit)"
   ]
  }
 ],
 "metadata": {
  "kernelspec": {
   "display_name": "Python 3 (ipykernel)",
   "language": "python",
   "name": "python3"
  },
  "language_info": {
   "codemirror_mode": {
    "name": "ipython",
    "version": 3
   },
   "file_extension": ".py",
   "mimetype": "text/x-python",
   "name": "python",
   "nbconvert_exporter": "python",
   "pygments_lexer": "ipython3",
   "version": "3.11.5"
  }
 },
 "nbformat": 4,
 "nbformat_minor": 5
}
