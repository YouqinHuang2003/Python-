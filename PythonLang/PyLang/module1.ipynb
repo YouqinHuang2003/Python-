{
 "cells": [
  {
   "cell_type": "code",
   "execution_count": 8,
   "id": "761f5132-9c37-42b5-b56f-fca2694c944e",
   "metadata": {
    "tags": []
   },
   "outputs": [
    {
     "name": "stdout",
     "output_type": "stream",
     "text": [
      "Hello! YangJay\n"
     ]
    }
   ],
   "source": [
    "#将函数存储在模块中\n",
    "#module1\n",
    "\n",
    "def say_hi(name):\n",
    "    print(f\"Hi! {name}\")\n",
    "\n",
    "def say_Hello(name):\n",
    "    print(f\"Hello! {name}\")"
   ]
  },
  {
   "cell_type": "code",
   "execution_count": null,
   "id": "3df29848-9f18-44b7-92e5-78f8c42e44ba",
   "metadata": {},
   "outputs": [],
   "source": []
  }
 ],
 "metadata": {
  "kernelspec": {
   "display_name": "Python 3 (ipykernel)",
   "language": "python",
   "name": "python3"
  },
  "language_info": {
   "codemirror_mode": {
    "name": "ipython",
    "version": 3
   },
   "file_extension": ".py",
   "mimetype": "text/x-python",
   "name": "python",
   "nbconvert_exporter": "python",
   "pygments_lexer": "ipython3",
   "version": "3.11.5"
  }
 },
 "nbformat": 4,
 "nbformat_minor": 5
}
