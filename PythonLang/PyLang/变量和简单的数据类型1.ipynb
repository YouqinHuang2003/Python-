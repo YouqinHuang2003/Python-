{
 "cells": [
  {
   "cell_type": "code",
   "execution_count": 10,
   "id": "97a0c32b-9d50-419f-a115-c43c06290f9d",
   "metadata": {},
   "outputs": [
    {
     "name": "stdout",
     "output_type": "stream",
     "text": [
      "Hello World\n"
     ]
    }
   ],
   "source": [
    "#运行Hello World\n",
    "print(\"Hello World\")"
   ]
  },
  {
   "cell_type": "code",
   "execution_count": null,
   "id": "861da332-e693-4272-a1c0-82e8f58dd6de",
   "metadata": {},
   "outputs": [],
   "source": [
    "#变量用于存储信息\n",
    "message = \"Hello World\""
   ]
  },
  {
   "cell_type": "code",
   "execution_count": null,
   "id": "a7b86fc3-798a-4d99-9d80-584504435260",
   "metadata": {},
   "outputs": [],
   "source": [
    "#避免命名错误的方法包括使用有意义的变量名，并遵循Python的命名规范。"
   ]
  },
  {
   "cell_type": "code",
   "execution_count": null,
   "id": "4e7a66b6-486e-49fb-997a-058e613171ed",
   "metadata": {},
   "outputs": [],
   "source": [
    "#变量可以被视为标签，指向内存中的数据\n",
    "name = \"Jay\"  #变量name标签指向->字符串\"Jay\""
   ]
  },
  {
   "cell_type": "code",
   "execution_count": null,
   "id": "2db1f16a-4db1-4a7d-87da-6718b1e18a14",
   "metadata": {},
   "outputs": [],
   "source": [
    "#字符串中的大小写可以使用方法改变\n",
    "name = \"ben\"\n",
    "print(name.title())"
   ]
  },
  {
   "cell_type": "code",
   "execution_count": null,
   "id": "c5ba51a0-6c44-4ec4-8515-a3f2cac8e6c7",
   "metadata": {},
   "outputs": [],
   "source": [
    "#在字符串中使用变量\n",
    "first_name = \"Hello\"\n",
    "last_name = \"World\"\n",
    "full_name = f\"{first_name} {last_name}\"\n",
    "print(full_name)"
   ]
  },
  {
   "cell_type": "code",
   "execution_count": null,
   "id": "2591260c-7c22-4ced-bcc6-8f40e710b86a",
   "metadata": {},
   "outputs": [],
   "source": [
    "#使用制表符或换行符添加空白\n",
    "print(\"Hello\\n\\tWorld\") #\\n是换行 \\t是缩进(Tab)"
   ]
  },
  {
   "cell_type": "code",
   "execution_count": null,
   "id": "6dd6bc98-fd7d-4633-b394-898a866081e3",
   "metadata": {},
   "outputs": [],
   "source": [
    "#删除空白或前缀\n",
    "name = \" JAY \"\n",
    "print(name.strip()) #删除空白\n",
    "print(name.rstrip()) #删除右侧空白\n",
    "print(name.lstrip()) #删除左侧空白"
   ]
  },
  {
   "cell_type": "code",
   "execution_count": null,
   "id": "0e9ae5bc-a82e-459a-88c0-803772cc5cc4",
   "metadata": {},
   "outputs": [],
   "source": [
    "#避免字符串语法错误\n",
    "message = \"What's this.\" # 正确使用引号\n",
    "print(message)"
   ]
  },
  {
   "cell_type": "code",
   "execution_count": null,
   "id": "a353920e-397f-4812-80ce-de3ea05512f3",
   "metadata": {},
   "outputs": [],
   "source": [
    "#数字类型包括整数和浮点数\n",
    "x = 30\n",
    "y = 30.0"
   ]
  },
  {
   "cell_type": "code",
   "execution_count": null,
   "id": "4c46e747-53c7-435a-a038-09d9ace6dd38",
   "metadata": {},
   "outputs": [],
   "source": [
    "#在数字中使用下划线提高可读性\n",
    "x = 10_000_000_000"
   ]
  },
  {
   "cell_type": "code",
   "execution_count": null,
   "id": "f63213a0-9eee-49e1-8f0f-c0a667043263",
   "metadata": {},
   "outputs": [],
   "source": [
    "#同时给多个变量赋值\n",
    "x, y, z = 1, 2, 3"
   ]
  },
  {
   "cell_type": "code",
   "execution_count": null,
   "id": "130ceb32-7c0f-4b5c-8b79-c14fa448ff8d",
   "metadata": {},
   "outputs": [],
   "source": [
    "#常量是一个值不变的变量，通常用大写字母表示\n",
    "MAX_CON = 8000 #定义常"
   ]
  },
  {
   "cell_type": "code",
   "execution_count": null,
   "id": "77fa91b4-6379-41d0-8ff0-e72b083a68de",
   "metadata": {},
   "outputs": [],
   "source": [
    "#注释用于解释代码的意图和功能\n",
    "#这是一行注释\n",
    "print(\"Hello!\") #打印欢迎的消息"
   ]
  },
  {
   "cell_type": "code",
   "execution_count": null,
   "id": "56f5f145-e0b3-4426-856c-a68c7b9f0692",
   "metadata": {},
   "outputs": [],
   "source": [
    "#编写清晰简洁的注释，解释代码的作用，而不是重述代码"
   ]
  },
  {
   "cell_type": "code",
   "execution_count": null,
   "id": "530ee744-5e17-4959-97a1-cdf0c6061a40",
   "metadata": {},
   "outputs": [],
   "source": [
    "#Python 之禅（通过导入 this 模块查看）强调简洁、可读性和复杂度的平衡\n",
    "import this"
   ]
  }
 ],
 "metadata": {
  "kernelspec": {
   "display_name": "Python 3 (ipykernel)",
   "language": "python",
   "name": "python3"
  },
  "language_info": {
   "codemirror_mode": {
    "name": "ipython",
    "version": 3
   },
   "file_extension": ".py",
   "mimetype": "text/x-python",
   "name": "python",
   "nbconvert_exporter": "python",
   "pygments_lexer": "ipython3",
   "version": "3.11.5"
  }
 },
 "nbformat": 4,
 "nbformat_minor": 5
}
